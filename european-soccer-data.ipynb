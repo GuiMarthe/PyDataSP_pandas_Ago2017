{
 "cells": [
  {
   "cell_type": "markdown",
   "metadata": {},
   "source": [
    "# data.world\n",
    "## European Soccer Data"
   ]
  },
  {
   "cell_type": "markdown",
   "metadata": {},
   "source": [
    "> #### Setup  \n",
    "\n",
    "> Before running data.world notebooks for the first time, you'll need to:  \n",
    "1. Install data.world's Python package, including optional `pandas` dependencies: \n",
    "```shell\n",
    "pip install git+git://github.com/datadotworld/data.world-py.git#egg=project[pandas]\n",
    "```\n",
    "1. Obtain an API access token at https://data.world/settings/advanced\n",
    "1. Store API access token using the `dw` command-line tool: \n",
    "```shell\n",
    "dw configure\n",
    "```\n",
    "\n",
    "> Once your environment is set up, these steps do not need to be repeated for other data.world notebooks."
   ]
  },
  {
   "cell_type": "code",
   "execution_count": 1,
   "metadata": {
    "collapsed": true
   },
   "outputs": [],
   "source": [
    "import datadotworld as dw"
   ]
  },
  {
   "cell_type": "code",
   "execution_count": 2,
   "metadata": {
    "collapsed": true
   },
   "outputs": [],
   "source": [
    "    # Datasets are referenced by their path\n",
    "dataset_key = 'data-society/european-soccer-data'\n",
    "\n",
    "# Or simply by their URL\n",
    "dataset_key = 'https://data.world/data-society/european-soccer-data'"
   ]
  },
  {
   "cell_type": "code",
   "execution_count": 3,
   "metadata": {},
   "outputs": [],
   "source": [
    "# Load dataset (onto the local file system)\n",
    "dataset_local = dw.load_dataset(dataset_key)  # cached under ~/.dw/cache"
   ]
  },
  {
   "cell_type": "code",
   "execution_count": 4,
   "metadata": {
    "scrolled": true
   },
   "outputs": [
    {
     "data": {
      "text/plain": [
       "{'description': '25k+ matches, players & teams attributes for European Professional Football.\\n\\nThe ultimate Soccer database for data analysis and machine learning\\n\\nWhat you get:\\n\\n+25,000 matches\\n+10,000 players\\n11 European Countries with their lead championship\\nSeasons 2008 to 2016\\nPlayers and Teams\\' attributes* sourced from EA Sports\\' FIFA video game series, including the weekly updates\\nTeam line up with squad formation (X, Y coordinates)\\nBetting odds from up to 10 providers\\nDetailed match events (goal types, possession, corner, cross, fouls, cards etc...) for +10,000 matches\\n*16th Oct 2016: New table containing teams\\' attributes from FIFA !\\n\\nOriginal Data Source:\\n\\nYou can easily find data about soccer matches but they are usually scattered across different websites. A thorough data collection and processing has been done to make your life easier. I must insist that you do not make any commercial use of the data. The data was sourced from:\\n\\nhttp://football-data.mx-api.enetscores.com/ : scores, lineup, team formation and events\\nhttp://www.football-data.co.uk/ : betting odds. Click here to understand the column naming system for betting odds:\\nhttp://sofifa.com/ : players and teams attributes from EA Sports FIFA games. FIFA series and all FIFA assets property of EA Sports.\\nWhen you have a look at the database, you will notice foreign keys for players and matches are the same as the original data sources. I have called those foreign keys \"api_id\".\\n\\nExploring the data:\\n\\nNow that\\'s the fun part, there is a lot you can do with this dataset. I will be adding visuals and insights to this overview page but please have a look at the kernels and give it a try yourself ! Here are some ideas for you:\\n\\nThe Holy Grail... ... is obviously to predict the outcome of the game. The bookies use 3 classes (Home Win, Draw, Away Win). They get it right about 53% of the time. This is also what I\\'ve achieved so far using my own SVM. Though it may sound high for such a random sport game, you\\'ve got to know that the home team wins about 46% of the time. So the base case (constantly predicting Home Win) has indeed 46% precision.\\n\\nProbabilities vs Odds\\n\\nWhen running a multi-class classifier like SVM you could also output a probability estimate and compare it to the betting odds. Have a look at your variance vs odds and see for what games you had very different predictions.\\n\\nExplore and visualize features\\n\\nWith access to players and teams attributes, team formations and in-game events you should be able to produce some interesting insights into The Beautiful Game . Who knows, Guardiola himself may hire one of you some day!\\n\\nSource: Kaggle\\n\\nhttps://www.kaggle.com/hugomathien/soccer',\n",
       " 'homepage': 'https://data.world/data-society/european-soccer-data',\n",
       " 'keywords': ['data society',\n",
       "  'soccer',\n",
       "  'european',\n",
       "  'machine learning',\n",
       "  'classification',\n",
       "  'prediction'],\n",
       " 'name': 'data-society_european-soccer-data',\n",
       " 'resources': [{'format': 'csv',\n",
       "   'name': 'country',\n",
       "   'path': 'data/country.csv'},\n",
       "  {'format': 'csv', 'name': 'league', 'path': 'data/league.csv'},\n",
       "  {'format': 'csv', 'name': 'match', 'path': 'data/match.csv'},\n",
       "  {'format': 'csv', 'name': 'player', 'path': 'data/player.csv'},\n",
       "  {'format': 'csv',\n",
       "   'name': 'player_attributes',\n",
       "   'path': 'data/player_attributes.csv'},\n",
       "  {'format': 'csv', 'name': 'team', 'path': 'data/team.csv'},\n",
       "  {'format': 'csv',\n",
       "   'name': 'team_attributes',\n",
       "   'path': 'data/team_attributes.csv'},\n",
       "  {'bytes': 36121187,\n",
       "   'format': 'zip',\n",
       "   'mediatype': 'application/zip',\n",
       "   'name': 'original/soccer.zip',\n",
       "   'path': 'original/soccer.zip'},\n",
       "  {'bytes': 313090048,\n",
       "   'format': 'sqlite',\n",
       "   'mediatype': 'application/x-sqlite',\n",
       "   'name': 'original/soccer/database.sqlite',\n",
       "   'path': 'original/soccer/database.sqlite'}],\n",
       " 'title': 'European Soccer Data'}"
      ]
     },
     "execution_count": 4,
     "metadata": {},
     "output_type": "execute_result"
    }
   ],
   "source": [
    "# See what is in it\n",
    "dataset_local.describe()"
   ]
  },
  {
   "cell_type": "code",
   "execution_count": 5,
   "metadata": {},
   "outputs": [
    {
     "data": {
      "text/plain": [
       "datadotworld.models.dataset.LocalDataset"
      ]
     },
     "execution_count": 5,
     "metadata": {},
     "output_type": "execute_result"
    }
   ],
   "source": []
  },
  {
   "cell_type": "markdown",
   "metadata": {},
   "source": [
    "# Next steps\n",
    "\n",
    "- Run `help()` to learn more ways to access and use your data. Try:\n",
    "  - `help(dw.load_dataset)`\n",
    "  - `help(dw.query)`\n",
    "- Learn more at: https://github.com/datadotworld/data.world-py and https://docs.data.world"
   ]
  }
 ],
 "metadata": {
  "kernelspec": {
   "display_name": "Python 3",
   "language": "python",
   "name": "python3"
  },
  "language_info": {
   "codemirror_mode": {
    "name": "ipython",
    "version": 3
   },
   "file_extension": ".py",
   "mimetype": "text/x-python",
   "name": "python",
   "nbconvert_exporter": "python",
   "pygments_lexer": "ipython3",
   "version": "3.6.1"
  }
 },
 "nbformat": 4,
 "nbformat_minor": 2
}
